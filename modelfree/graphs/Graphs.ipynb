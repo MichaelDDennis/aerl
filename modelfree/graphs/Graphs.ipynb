{
 "cells": [
  {
   "cell_type": "code",
   "execution_count": null,
   "metadata": {},
   "outputs": [],
   "source": [
    "import os\n",
    "\n",
    "import pandas as pd\n",
    "import matplotlib.pyplot as plt"
   ]
  },
  {
   "cell_type": "markdown",
   "metadata": {},
   "source": [
    "# Data loading"
   ]
  },
  {
   "cell_type": "code",
   "execution_count": null,
   "metadata": {},
   "outputs": [],
   "source": [
    "def load_mon():\n",
    "    res = {}\n",
    "    results_dir = 'final_results'\n",
    "    for env in os.listdir(results_dir):\n",
    "        for exp in os.listdir(os.path.join(results_dir, env)):\n",
    "            csv_path = os.path.join(results_dir, env, exp, 'mon', 'progress.csv')\n",
    "            df = pd.read_csv(csv_path)\n",
    "            res.setdefault(env, {})[exp] = df\n",
    "    return res\n",
    "            \n",
    "def load_stats():\n",
    "    res = {}\n",
    "    results_dir = 'stats'\n",
    "    for env in os.listdir(results_dir):\n",
    "        for csv_fname in os.listdir(os.path.join(results_dir, env)):\n",
    "            csv_path = os.path.join(results_dir, env, csv_fname)\n",
    "            df = pd.read_csv(csv_path, index_col=False, names=['id', 'checkpoint', 'runs', 'ties', 'our_loss', 'our_win'])\n",
    "            \n",
    "            ids = df['id'].str.split(' ')\n",
    "            assert (ids.str[0] == '[MAGIC').all()\n",
    "            assert (ids.str[1] == 'NUMBER').all()\n",
    "            assert (ids.str[3] == 'Name/Samples/Tie/Victim_Win/Victim_Loss').all()\n",
    "            df.drop(columns=['id'], inplace=True)\n",
    "            \n",
    "            df['checkpoint'] = df['checkpoint'].str.split('/').str[-1].astype('int') - 1\n",
    "            df = df.set_index('checkpoint')\n",
    "            df = df.sort_index()\n",
    "            \n",
    "            assert (df['runs'] == df['ties'] + df['our_loss'] + df['our_win']).all()\n",
    "            \n",
    "            exp = csv_fname.replace('_checkpoint_stats.log', '')\n",
    "            res.setdefault(env, {})[exp] = df\n",
    "    return res\n",
    "\n",
    "def combine(mon, stats):\n",
    "    res = {}\n",
    "    #assert mon.keys() == stats.keys()\n",
    "    for k in stats.keys():\n",
    "        mon_sub = mon[k]\n",
    "        stats_sub = stats[k]\n",
    "        #assert mon_sub.keys() == stats_sub.keys()\n",
    "        for k2 in stats_sub.keys():\n",
    "            m = mon_sub[k2]\n",
    "            s = stats_sub[k2]\n",
    "            assert (m.index == m['nupdates'] - 1).all()\n",
    "            df = pd.concat([m, s], axis=1)\n",
    "            res.setdefault(k, {})[k2] = df\n",
    "    return res\n",
    "\n",
    "def by_experiment(dfs):\n",
    "    res = {}\n",
    "    for env, dfs_by_env in dfs.items():\n",
    "        for exp_name, df in dfs_by_env.items():\n",
    "            x = exp_name.split('_')\n",
    "            date = x[0]\n",
    "            time = x[1]\n",
    "            env2 = x[-2]\n",
    "            assert env.startswith(env2)\n",
    "            seed = int(x[-1])\n",
    "            name = '_'.join(x[2:-2])\n",
    "            res.setdefault(env, {}).setdefault(name, {})[seed] = df\n",
    "    return res"
   ]
  },
  {
   "cell_type": "code",
   "execution_count": null,
   "metadata": {},
   "outputs": [],
   "source": [
    "mon = load_mon()\n",
    "stats = load_stats()\n",
    "dfs = combine(mon, stats)\n",
    "dfs = by_experiment(dfs)"
   ]
  },
  {
   "cell_type": "markdown",
   "metadata": {},
   "source": [
    "# Graphs"
   ]
  },
  {
   "cell_type": "code",
   "execution_count": null,
   "metadata": {},
   "outputs": [],
   "source": [
    "def plot_win_rate(dfs, ylim=None):\n",
    "    win_rate = pd.DataFrame({k: df['our_win'] / df['runs'] * 100 for k, df in dfs.items()})\n",
    "    win_rate.rolling(10).mean().plot()\n",
    "    plt.xlabel('Epoch')\n",
    "    plt.ylabel('Win Rate (%)')\n",
    "    if ylim is not None:\n",
    "        plt.ylim(ylim)\n",
    "\n",
    "def plot_reward(dfs):\n",
    "    eprewmean = pd.DataFrame({k: df['eprewmean'] for k, df in dfs.items()})\n",
    "    eprewmean.rolling(10).mean().plot()\n",
    "    plt.xlabel('Epoch')\n",
    "    plt.ylabel('Episode Reward')"
   ]
  },
  {
   "cell_type": "code",
   "execution_count": null,
   "metadata": {},
   "outputs": [],
   "source": [
    "graph_config = {\n",
    "    'kick': {\n",
    "        #TODO: why does seed 2 always do best? this is surprising? is it actually choosing e.g. opponent?\n",
    "        'exps': {\n",
    "            'Sparse': ('rl_baseline_win_loss', 2),\n",
    "            'Dense': ('rl_baseline_their_shaped', 2),        \n",
    "            'Heuristic Only': ('rl_new_only_shaped', 2),\n",
    "            'Heuristic + Sparse': ('rl_new_win_loss_plus_shaped', 2),\n",
    "            'Heuristic + Dense': ('rl_new_their_shaped_plus_our_shaped', 2),\n",
    "        },\n",
    "        'win_opt': {'ylim': (0,100)},\n",
    "    },\n",
    "    'sumo': {\n",
    "        'exps': {\n",
    "            'Sparse': ('rl_baseline_win_loss', 2),\n",
    "            'Dense': ('rl_baseline_their_shaped', 2),        \n",
    "            'Heuristic Only': ('rl_only_shaped', 2),\n",
    "            'Heuristic + Sparse': ('rl_win_loss_plus_shaped', 2),\n",
    "            'Heuristic + Dense': ('rl_their_shaped_plus_our_shaped', 2),\n",
    "        },\n",
    "    },\n",
    "}"
   ]
  },
  {
   "cell_type": "code",
   "execution_count": null,
   "metadata": {},
   "outputs": [],
   "source": [
    "with plt.style.context(('./graphs/paper.mplstyle', './graphs/onecol.mplstyle')):\n",
    "    for env, cfg in graph_config.items():\n",
    "        subset = {k: dfs[env][exp][seed] for k, (exp, seed) in cfg['exps'].items() if exp in dfs[env]}\n",
    "\n",
    "        plot_reward(subset, **cfg.get('reward_opt', {}))\n",
    "        plt.savefig(os.path.join('figs', '{}_reward.pdf'.format(env)))\n",
    "\n",
    "        plot_win_rate(subset, **cfg.get('win_opt', {}))\n",
    "        plt.savefig(os.path.join('figs', '{}_win.pdf'.format(env)))"
   ]
  }
 ],
 "metadata": {
  "kernelspec": {
   "display_name": "Python 3",
   "language": "python",
   "name": "python3"
  },
  "language_info": {
   "codemirror_mode": {
    "name": "ipython",
    "version": 3
   },
   "file_extension": ".py",
   "mimetype": "text/x-python",
   "name": "python",
   "nbconvert_exporter": "python",
   "pygments_lexer": "ipython3",
   "version": "3.6.7"
  }
 },
 "nbformat": 4,
 "nbformat_minor": 2
}
